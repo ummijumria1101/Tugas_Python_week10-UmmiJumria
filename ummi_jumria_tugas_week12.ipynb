{
  "nbformat": 4,
  "nbformat_minor": 0,
  "metadata": {
    "colab": {
      "name": "ummi jumria_tugas week12.ipynb",
      "provenance": [],
      "authorship_tag": "ABX9TyM1K0rmJChjVus5bIyFWHYL",
      "include_colab_link": true
    },
    "kernelspec": {
      "name": "python3",
      "display_name": "Python 3"
    }
  },
  "cells": [
    {
      "cell_type": "markdown",
      "metadata": {
        "id": "view-in-github",
        "colab_type": "text"
      },
      "source": [
        "<a href=\"https://colab.research.google.com/github/ummijumria1101/Tugas_Python_week10-UmmiJumria/blob/main/ummi_jumria_tugas_week12.ipynb\" target=\"_parent\"><img src=\"https://colab.research.google.com/assets/colab-badge.svg\" alt=\"Open In Colab\"/></a>"
      ]
    },
    {
      "cell_type": "markdown",
      "metadata": {
        "id": "fzPJqoaDZcZd"
      },
      "source": [
        "Ummi Jumria (1101194417)\r\n",
        "TT-43-G1"
      ]
    },
    {
      "cell_type": "code",
      "metadata": {
        "id": "OQBV7ki9TFPj"
      },
      "source": [
        "import numpy as np"
      ],
      "execution_count": null,
      "outputs": []
    },
    {
      "cell_type": "code",
      "metadata": {
        "id": "ALd4dkmbTIyt"
      },
      "source": [
        "def pathloss231(d,fc,area,hT,hR):\r\n",
        " \r\n",
        "  if fc in range(400,1500):\r\n",
        "    c1=69.55\r\n",
        "    c2=26.16\r\n",
        "  elif fc in range(1500,2000):\r\n",
        "    c1=46.3\r\n",
        "    c2=33.9\r\n",
        "\r\n",
        "\r\n",
        "  ahr=(1.1*np.log10(fc)-0.7)*hR - (1.56*np.log10(fc)-0.8)\r\n",
        "\r\n",
        " \r\n",
        "  if area==\"urban\":\r\n",
        "    cm=0\r\n",
        "  elif area==\"suburban\":\r\n",
        "    cm=-2*(np.log10(fc/28)**2)-5.4\r\n",
        "  elif area==\"open\":\r\n",
        "    cm=-4.78*(np.log10(fc)**2)+18.33*np.log(fc)-40.94 \r\n",
        "\r\n",
        " \r\n",
        "  Lp = c1 + c2*np.log10(fc) - 13.83*np.log10(hT) - ahr + (44.9 - 6.55*np.log10(hT))*np.log10(d) + cm\r\n",
        "  return Lp"
      ],
      "execution_count": null,
      "outputs": []
    },
    {
      "cell_type": "code",
      "metadata": {
        "colab": {
          "base_uri": "https://localhost:8080/"
        },
        "id": "ShApVYo0TQfP",
        "outputId": "a8d31d33-e30e-414d-8144-2bca6c701015"
      },
      "source": [
        "pathlossc231=pathloss231(30, 1700, \"urban\", 150, 30)\r\n",
        "print(\"Pathloss dalam dB : \",pathlossc231,\" dB\")\r\n"
      ],
      "execution_count": null,
      "outputs": [
        {
          "output_type": "stream",
          "text": [
            "Pathloss dalam dB :  89.62030980696996  dB\n"
          ],
          "name": "stdout"
        }
      ]
    },
    {
      "cell_type": "code",
      "metadata": {
        "colab": {
          "base_uri": "https://localhost:8080/"
        },
        "id": "lJ-zYIGoUCRd",
        "outputId": "aa020de4-e2bc-4853-a331-9b66d8209e43"
      },
      "source": [
        "pathlossc231=pathloss231(20, 1200, \"suburban\", 200, 20)\r\n",
        "print(\"Pathloss dalam dB : \",pathlossc231,\" dB\")"
      ],
      "execution_count": null,
      "outputs": [
        {
          "output_type": "stream",
          "text": [
            "Pathloss dalam dB :  96.6201248994044  dB\n"
          ],
          "name": "stdout"
        }
      ]
    },
    {
      "cell_type": "code",
      "metadata": {
        "colab": {
          "base_uri": "https://localhost:8080/"
        },
        "id": "5IcgeTbmUdNm",
        "outputId": "462d3f24-5301-48a2-dc4c-daf5ae78fe66"
      },
      "source": [
        "pathlossc231=pathloss231(10, 1000, \"open\", 100, 10)\r\n",
        "print(\"Pathloss dalam dB : \",pathlossc231,\" dB\")"
      ],
      "execution_count": null,
      "outputs": [
        {
          "output_type": "stream",
          "text": [
            "Pathloss dalam dB :  172.70915426374256  dB\n"
          ],
          "name": "stdout"
        }
      ]
    },
    {
      "cell_type": "code",
      "metadata": {
        "id": "KyLJUfHlUkap"
      },
      "source": [
        ""
      ],
      "execution_count": null,
      "outputs": []
    }
  ]
}